{
 "cells": [
  {
   "cell_type": "code",
   "execution_count": 4,
   "id": "7720b888",
   "metadata": {},
   "outputs": [
    {
     "data": {
      "application/javascript": [
       "IPython.OutputArea.prototype._should_scroll = function(lines) {\n",
       "    return false;\n",
       "}\n"
      ],
      "text/plain": [
       "<IPython.core.display.Javascript object>"
      ]
     },
     "metadata": {},
     "output_type": "display_data"
    }
   ],
   "source": [
    "%%javascript\n",
    "IPython.OutputArea.prototype._should_scroll = function(lines) {\n",
    "    return false;\n",
    "}"
   ]
  },
  {
   "cell_type": "code",
   "execution_count": 6,
   "id": "6f9a8456",
   "metadata": {
    "scrolled": false
   },
   "outputs": [
    {
     "name": "stdout",
     "output_type": "stream",
     "text": [
      "How does it work?\n",
      "\n",
      "1. Choose the league you want to test this method with.\n",
      "2. Each game we're betting on the favortie team. But as we've seen in the Excel file, not all odds categories have the same prediction accuracy. Choose one among the four.\n",
      "3. Set your initial bankroll, and the amount of your initial stake. The multiplier will be used after a lost bet to determine your next stake. We're going to multiply automatically your last stake until you win, so you can cover your losses and be in profit.\n",
      "You start over with the initial stake when you win a bet, or when you don't have enough in your bankroll to multiply your last stake after a loss. If you don't have enough to even make the first bet with the initial stake, you're out.\n"
     ]
    },
    {
     "data": {
      "application/vnd.jupyter.widget-view+json": {
       "model_id": "1eb7c5fb1ba94752ab9639fff58f054b",
       "version_major": 2,
       "version_minor": 0
      },
      "text/plain": [
       "HBox(children=(Dropdown(description='Choose your league:', options=('Ligue 1', 'Premiere League', 'Bundesliga'…"
      ]
     },
     "metadata": {},
     "output_type": "display_data"
    },
    {
     "data": {
      "application/vnd.jupyter.widget-view+json": {
       "model_id": "9a49449a21e641649d9bda4b7c38a10f",
       "version_major": 2,
       "version_minor": 0
      },
      "text/plain": [
       "Output()"
      ]
     },
     "metadata": {},
     "output_type": "display_data"
    }
   ],
   "source": [
    "import pandas as pd\n",
    "import matplotlib.pyplot as plt\n",
    "import ipywidgets as wg\n",
    "from ipywidgets import Layout\n",
    "\n",
    "#explaining the concept to the user\n",
    "print('How does it work?\\n\\n1. Choose the league you want to test this method with.\\n2. Each game we\\'re betting\\\n",
    " on the favortie team. But as we\\'ve seen in the Excel file, not all odds categories have the same prediction accuracy.\\\n",
    " Choose one among the four.\\n3. Set your initial bankroll, and the amount of your initial stake. The multiplier will be used\\\n",
    " after a lost bet to determine your next stake. We\\'re going to multiply automatically your last stake until you win, so you can cover your losses\\\n",
    " and be in profit.\\nYou start over with the initial stake when you win a bet, or when\\\n",
    " you don\\'t have enough in your bankroll to multiply your last stake after a loss. If you don\\'t have enough\\\n",
    " to even make the first bet with the initial stake, you\\'re out.')\n",
    "\n",
    "#dataframe with all 10y-results in entry, returns a new dataframe sorted depending on the odds category \n",
    "#and the league selected by the user\n",
    "def sort_category (odds_category, file_source, league):\n",
    "    file = file_source[(file_source['Odds Category'] == odds_category) & (file_source['League'] == league) ]\n",
    "    return file \n",
    "\n",
    "#plot the final graph\n",
    "def plot_graph (a, b):\n",
    "    plt.figure(figsize=(12,8))\n",
    "    plt.plot(a,b,label='bankroll')\n",
    "    plt.grid( color='grey', alpha=0.6, linestyle='dashdot')\n",
    "    plt.xlabel('Date', fontsize =15)\n",
    "    plt.ylabel('Money', fontsize =15)\n",
    "    plt.legend()\n",
    "    plt.title('When you always bet on the favourite team\\n', fontsize =20)\n",
    "    plt.show()\n",
    "\n",
    "#set the 5 widgets to interact with the main function\n",
    "style={'description_width': 'initial'}\n",
    "bankroll_init = wg.IntSlider(min=1000, max=10000, step=500, value=3000, description='Initial Bankroll',style=style)\n",
    "stake_init = wg.IntSlider(min=10, max=50, step=5, description='Initial Stake',style=style)\n",
    "multiplier  = wg.IntSlider(min=2, max=10, step=1,description='Multiplier',style=style)\n",
    "odds_category = wg.RadioButtons(options=[[\"< @1.5\",1],[\"@1.5 - @2\",2],[\"@2 - @2.5\",3],[\"> @2.5\",4]], \n",
    "                                description=\"Odds of favourite teams\",style=style)                               \n",
    "league = wg.Dropdown(options=['Ligue 1','Premiere League','Bundesliga','Serie A','La Liga'],\n",
    "                     description='Choose your league:',style=style)\n",
    "\n",
    "def main(bankroll_init, stake_init, multiplier,odds_category,league):\n",
    "    \n",
    "    #create a dataframe from the excel file that has all 10y-results\n",
    "    file_source = pd.read_excel('Beat_the_Bookies.xlsx')\n",
    "    #sort the dataframe \n",
    "    sorted_file = sort_category(odds_category,file_source, league)\n",
    "    \n",
    "    str_category = ['','under @1.5','between @1.5 et @2','between @2 et @2.5','over @2.5']\n",
    "    str_bankrupcy='Congratulations!! You\\'ve made it through these 10 seasons without loosing your initial bankroll!!'\n",
    "    bankroll_current = bankroll_init\n",
    "    stake_current = stake_init\n",
    "    list_bankroll = []\n",
    "    list_date = []\n",
    "    \n",
    "    #for loop through the sorted dataframe\n",
    "    for i in sorted_file.index:\n",
    "        \n",
    "        #list all the dates and the evolution of the bankroll in 2 separated lists \n",
    "        #(futur x-axis and y-axis for the graph)\n",
    "        list_bankroll.append(bankroll_current)\n",
    "        list_date.append(sorted_file['Date'][i])\n",
    "        \n",
    "        #if enough money in the bankroll to make the bet\n",
    "        if stake_current < bankroll_current:\n",
    "\n",
    "            bankroll_current = bankroll_current - stake_current\n",
    "            \n",
    "            #if the home team was favourite and won\n",
    "            if (sorted_file['B365H'][i] == sorted_file['Min Odds'][i]) & (sorted_file['FTR'][i] == 'H'):\n",
    "                bankroll_current = bankroll_current + (stake_current * sorted_file['B365H'][i])\n",
    "                stake_current = stake_init\n",
    "            #if the away team was favourite and won\n",
    "            elif (sorted_file['B365A'][i] == sorted_file['Min Odds'][i]) & (sorted_file['FTR'][i] == 'A'):\n",
    "                bankroll_current = bankroll_current + (stake_current * sorted_file['B365A'][i])\n",
    "                stake_current = stake_init\n",
    "            #if the favourite team didn't win\n",
    "            else :\n",
    "                stake_current = stake_current * multiplier\n",
    "        \n",
    "        #if not enough money to even make the first bet with the initial stake -> Game Over\n",
    "        elif bankroll_current < stake_init:\n",
    "            str_bankrupcy = ('Sorry, not enough money in your bankroll to keep going... You have to quit the game early with '\n",
    "                             +\"{:.2f}\".format(round(bankroll_current, 2))+'€, on the: '+sorted_file['Date'][i].strftime('%D')+'.')\n",
    "            break\n",
    "        \n",
    "        #if not enough money to keep rising the stake, but enough to start over with the initial stake\n",
    "        else:\n",
    "            stake_current = stake_init\n",
    "            \n",
    "    plot_graph(list_date,list_bankroll)\n",
    "    \n",
    "    print(str_bankrupcy+'\\nConclusion: \\nYour bankroll would have gone from '+ str(bankroll_init) + '€ to '+\"{:.2f}\".format(round(list_bankroll[-1], 2))+\n",
    "          '€, if you had bet on every '+league+' game on the favourite team, when its odds were '+str_category[odds_category]+\n",
    "         '\\nYour started with a '+str(stake_init)+'€ bet. Every time you lost a bet, you multiplied your last stake by '\n",
    "         +str(multiplier)+'.')\n",
    "\n",
    "    \n",
    "\n",
    "\n",
    "    \n",
    "box_layout = Layout(display='flex',\n",
    "    flex_flow='row',\n",
    "    border='solid 2px',\n",
    "    align_items='flex-start',\n",
    "    width='100%')\n",
    "\n",
    "out= wg.interactive_output(main,{'bankroll_init':bankroll_init,'stake_init': stake_init, 'multiplier':multiplier,\n",
    "                                   'odds_category':odds_category,'league':league})\n",
    "right_box = wg.VBox([bankroll_init,stake_init,multiplier])\n",
    "box = wg.HBox([league,odds_category,right_box],layout = box_layout)\n",
    "display (box,out)"
   ]
  },
  {
   "cell_type": "code",
   "execution_count": null,
   "id": "2267aff5",
   "metadata": {},
   "outputs": [],
   "source": []
  }
 ],
 "metadata": {
  "kernelspec": {
   "display_name": "Python 3 (ipykernel)",
   "language": "python",
   "name": "python3"
  },
  "language_info": {
   "codemirror_mode": {
    "name": "ipython",
    "version": 3
   },
   "file_extension": ".py",
   "mimetype": "text/x-python",
   "name": "python",
   "nbconvert_exporter": "python",
   "pygments_lexer": "ipython3",
   "version": "3.9.7"
  }
 },
 "nbformat": 4,
 "nbformat_minor": 5
}
